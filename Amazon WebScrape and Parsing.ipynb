{
 "metadata": {
  "language_info": {
   "codemirror_mode": {
    "name": "ipython",
    "version": 3
   },
   "file_extension": ".py",
   "mimetype": "text/x-python",
   "name": "python",
   "nbconvert_exporter": "python",
   "pygments_lexer": "ipython3",
   "version": "3.8.10"
  },
  "orig_nbformat": 4,
  "kernelspec": {
   "name": "python3",
   "display_name": "Python 3.8.10 64-bit (windows store)"
  },
  "interpreter": {
   "hash": "535301075a33cec76a6f1075f4d5360a16cda593f12bd42c6cd42d9c3a6d5f18"
  }
 },
 "nbformat": 4,
 "nbformat_minor": 2,
 "cells": [
  {
   "source": [
    "# Import Libraries|"
   ],
   "cell_type": "markdown",
   "metadata": {}
  },
  {
   "cell_type": "code",
   "execution_count": 87,
   "metadata": {},
   "outputs": [],
   "source": [
    "import pandas as pd\n",
    "from bs4 import BeautifulSoup\n",
    "import requests\n",
    "import time\n",
    "from selenium.webdriver.chrome.options import Options\n",
    "from selenium import webdriver\n",
    "import io\n",
    "import os\n",
    "from textblob import TextBlob\n",
    "from wordcloud import WordCloud"
   ]
  },
  {
   "source": [
    "#"
   ],
   "cell_type": "markdown",
   "metadata": {}
  },
  {
   "source": [
    "# Web Scraping"
   ],
   "cell_type": "markdown",
   "metadata": {}
  },
  {
   "cell_type": "code",
   "execution_count": 67,
   "metadata": {},
   "outputs": [],
   "source": [
    "for i in range(1, 201):\n",
    "\n",
    "    page_number = str(i)\n",
    "    previous_page = str(i - 1)\n",
    "    test_url = f\"https://www.amazon.com/New-Microsoft-Surface-Pro-Touch-Screen/product-reviews/B07YNHYQ5Z/ref=cm_cr_arp_d_paging_btm_next_2?ie=UTF8&reviewerType=all_reviews&pageNumber={page_number}\"\n",
    "\n",
    "    wd = webdriver.Chrome()\n",
    "\n",
    "    wd.get(test_url)\n",
    "\n",
    "    time.sleep(1)\n",
    "\n",
    "    with open(f\"amazon_lap_reviews/{page_number}.html\", \"w\", encoding=\"utf-8\") as f:\n",
    "        f.write(wd.page_source)\n",
    "   \n",
    "    wd.quit()"
   ]
  },
  {
   "source": [
    "# Parsing Reviews"
   ],
   "cell_type": "markdown",
   "metadata": {}
  },
  {
   "cell_type": "code",
   "execution_count": 84,
   "metadata": {},
   "outputs": [
    {
     "output_type": "execute_result",
     "data": {
      "text/plain": [
       "[<span class=\"a-size-base a-color-secondary review-date\" data-hook=\"review-date\">Reviewed in the United States on December 22, 2019</span>]"
      ]
     },
     "metadata": {},
     "execution_count": 84
    }
   ],
   "source": [
    "with open(\"amazon_lap_reviews/1.html\",'r', encoding=\"utf8\") as reader:\n",
    "    html_string = reader.read()\n",
    "    soup = bs(html_string, 'html.parser')\n",
    "\n",
    "soup.find_all(class_=\"a-section celwidget\")[1].find_all(class_=\"a-size-base a-color-secondary review-date\")"
   ]
  },
  {
   "cell_type": "code",
   "execution_count": 85,
   "metadata": {},
   "outputs": [
    {
     "output_type": "execute_result",
     "data": {
      "text/plain": [
       "[<i class=\"a-icon a-icon-star a-star-1 review-rating\" data-hook=\"review-star-rating\"><span class=\"a-icon-alt\">1.0 out of 5 stars</span></i>]"
      ]
     },
     "metadata": {},
     "execution_count": 85
    }
   ],
   "source": [
    "soup.find_all(class_=\"a-section celwidget\")[1].find_all(class_=\"review-rating\")"
   ]
  },
  {
   "cell_type": "code",
   "execution_count": 86,
   "metadata": {},
   "outputs": [
    {
     "output_type": "execute_result",
     "data": {
      "text/plain": [
       "\"Pros:• USB-C, Finally! As a past Surface Pro user, this was never a feature. With a USB-C, like any computer, you can do so much more with this device now. From headphones to connecting external 4k monitors, to charging this and other devices (USB-C chargers are 10x cheaper to get), to even connecting an Ethernet adaptor. About time Microsoft.• It’s a very sold machine. I go no flex issues, the frame feels sturdy, and overall I felt that I can throw this in a bag and not worry.• It’s light. Not IPad light, but enough that you won’t feel worried that you’re not going to bend it.• The microphone set up on the Pro is a big upgrade. Skype calls from my parents came crisp and clear in an indoor, TV on, volume. The web video is what it is, but the microphone setup is a thumbs up.• Cortana listens to you pretty well. I’m learning Spanish so translating even simple questions, from English to Spanish, Cortana does a lot better than either using Alexa or Google Assistant. Also questions about directions, weather, and others were spot on.• Excellent display. The screen is bright, outstanding saturation/color balance, and also offers ambient light sensing when it gets dark. When you go to settings you can modify it for a specific time, or it will automatically adjust when the sun goes down in your location.• Microsoft mastered the kickstand on this. Numerous ranges of all angels, and is even quite steady when it’s placed on my lap.• microSD reader (for upgraded memory option)• Headphone Jack. I find this feature a must if you’re planning to edit videos on this.• Solid State Drive (SDD) on a tablet size is one of the best things. If you have to choose, always an SSD, regardless of memory size. Faster, cooler, and• Charging on this is very fast. From 0 to 50% it took around 45-50 minutes. Note that I was using the charging cords that it came with. Don’t expect the same results when using an off-brand.• A lot of horsepower for a tablet. Inside is an Ice Lake processor. To summarize, it features smaller transistors that makes multi-tasking an non-issue. Trying out for the first time with around 10 apps running (Madden, Netflix, Live Maps, Grand Trims Mo, etc.), the machine had no lag or hiccups. Largely the effects of this chip will be appreciated in the next 2 years from when you get this tablet.• The processor allows Wi-Fi 6 to be enforced on this tablet. This area is still new but within the next year, this tablet will already be up to date with the hardware. Meaning stronger upload and download rates.• The speakers shoot sound directly to my face. Turning on Spotify, I got a decent quality in sound. With rock and country, I got a very balanced, and a lot of power in the volume. For the average listener it’s quite good. Not IPad level but still good to make the list.• I can see the 3:2 screen a benefit for those who want to read, show notes, and display documents at work. Not many tablets can provide this without losing some quality. For me, I saw no waste in this Surface.Cons and Oks:• The chunky bezel. Stick to the times Microsoft, this can’t be ignored in 2019. It’s very thick and with competitors providing bezel-less frames, or close to it, this is a major turn off (Not to mention that Microsoft itself has a Surface Pro X with a design that is significantly less in the bezel. (Why not this one?).• With the bezel issue, the screen size makes the tablet look 2 years older than what it is.• Last year's model and this one are 99% the same in design. Remove the USB-C connector and it’ll be 100% the same. A very outdated design as I think Microsoft invested all their money on the internals and just forgot about the redesigning.• The battery life isn’t great. I’m getting around 8 hours of power. That’s having Wi-Fi always on, web surfing, daily YouTube playing, and a couple of hours with Netflix (plus a couple of smaller apps). It can last a whole day if you control your power and your screen display, but it’s nowhere near what Microsoft is saying.• Don’t take it outside on a sunny day. That sun glare is too powerful for this display brightness.• Keyboard and Surface Pen are sold separately. I didn’t test these as you only get the tablet.• Even though USB-C is a great thing to have, we’re already in the USB 3.1 world. With also no Thunderbolt 3 (quick file transfer) I wish that Microsoft put more effort into the outside design as much as they put in there hardware on this machine.• I found no issue playing Overwatch on this but trying to play Call of Duty forget it. This isn’t for deep gaming and playing Overwatch killed a decent chunk of the battery.Bottom Line:If you’re going to buy this, you need to at least invest in there keyboard cover. It’s disappointing that to fully experience your Pro, you need to put down money on its keyboard and pen. Without a keyboard, from my experience, you’re pretty limited. I used a Logitech Bluetooth keyboard and mouse, but the portably is limited if you can’t attach them to the Surface Pro.Also we're in the age of laptops, tablets, and phones trying to reach the goal to be bezel-less. I have the previous model on hand and I can’t tell them apart in any way. Thanks to these 2019 new laptops/tablets, the bezels on this device make it feel like this tablet is from 2017. I’m also irritated that Microsoft didn’t at least try to improve the design.But if you can deal with the design (and the battery) issues, you’ll know that Microsoft put all their money on what’s inside the system. From the new core processors, this tablet is a beast. I found it very fast, reliable, and it will stand its ground for 2+ years. For me that’s the beauty of a Surface Pro: a PC in the size of a tablet. I’m always a PC fan and this performs as if I had a laptop on my lap, something an IPad can’t do. If you can deal with the generic bezel look, and put money down for their keyboard, you’re getting a beast of a computer fitting in a tablet.Overall: An outdated design that packs a lot of power for those who want more than just a generic tablet on the go.Hope I was a help to you.Love,Honest Reviewer\""
      ]
     },
     "metadata": {},
     "execution_count": 86
    }
   ],
   "source": [
    "soup.find_all(class_=\"review-text-content\")[0].text.strip()"
   ]
  },
  {
   "source": [
    "# Listing out files to iterate through"
   ],
   "cell_type": "markdown",
   "metadata": {}
  },
  {
   "cell_type": "code",
   "execution_count": 88,
   "metadata": {},
   "outputs": [],
   "source": [
    "files = os.listdir(\"amazon_lap_reviews/\")\n",
    "files.sort()"
   ]
  },
  {
   "source": [
    "# Parsing Data"
   ],
   "cell_type": "markdown",
   "metadata": {}
  },
  {
   "cell_type": "code",
   "execution_count": 89,
   "metadata": {},
   "outputs": [
    {
     "output_type": "stream",
     "name": "stdout",
     "text": [
      "1.html\n",
      "10.html\n",
      "100.html\n",
      "101.html\n",
      "102.html\n",
      "103.html\n",
      "104.html\n",
      "105.html\n",
      "106.html\n",
      "107.html\n",
      "108.html\n",
      "109.html\n",
      "11.html\n",
      "110.html\n",
      "111.html\n",
      "112.html\n",
      "113.html\n",
      "114.html\n",
      "115.html\n",
      "116.html\n",
      "117.html\n",
      "118.html\n",
      "119.html\n",
      "12.html\n",
      "120.html\n",
      "121.html\n",
      "122.html\n",
      "123.html\n",
      "124.html\n",
      "125.html\n",
      "126.html\n",
      "127.html\n",
      "128.html\n",
      "129.html\n",
      "13.html\n",
      "130.html\n",
      "131.html\n",
      "132.html\n",
      "133.html\n",
      "134.html\n",
      "135.html\n",
      "136.html\n",
      "137.html\n",
      "138.html\n",
      "139.html\n",
      "14.html\n",
      "140.html\n",
      "141.html\n",
      "142.html\n",
      "143.html\n",
      "144.html\n",
      "145.html\n",
      "146.html\n",
      "147.html\n",
      "148.html\n",
      "149.html\n",
      "15.html\n",
      "150.html\n",
      "151.html\n",
      "152.html\n",
      "153.html\n",
      "154.html\n",
      "155.html\n",
      "156.html\n",
      "157.html\n",
      "158.html\n",
      "159.html\n",
      "16.html\n",
      "160.html\n",
      "161.html\n",
      "162.html\n",
      "163.html\n",
      "164.html\n",
      "165.html\n",
      "166.html\n",
      "167.html\n",
      "168.html\n",
      "169.html\n",
      "17.html\n",
      "170.html\n",
      "171.html\n",
      "172.html\n",
      "173.html\n",
      "174.html\n",
      "175.html\n",
      "176.html\n",
      "177.html\n",
      "178.html\n",
      "179.html\n",
      "18.html\n",
      "180.html\n",
      "181.html\n",
      "182.html\n",
      "183.html\n",
      "184.html\n",
      "185.html\n",
      "186.html\n",
      "187.html\n",
      "188.html\n",
      "189.html\n",
      "19.html\n",
      "190.html\n",
      "191.html\n",
      "192.html\n",
      "193.html\n",
      "194.html\n",
      "195.html\n",
      "196.html\n",
      "197.html\n",
      "198.html\n",
      "199.html\n",
      "2.html\n",
      "20.html\n",
      "200.html\n",
      "21.html\n",
      "22.html\n",
      "23.html\n",
      "24.html\n",
      "25.html\n",
      "26.html\n",
      "27.html\n",
      "28.html\n",
      "29.html\n",
      "3.html\n",
      "30.html\n",
      "31.html\n",
      "32.html\n",
      "33.html\n",
      "34.html\n",
      "35.html\n",
      "36.html\n",
      "37.html\n",
      "38.html\n",
      "39.html\n",
      "4.html\n",
      "40.html\n",
      "41.html\n",
      "42.html\n",
      "43.html\n",
      "44.html\n",
      "45.html\n",
      "46.html\n",
      "47.html\n",
      "48.html\n",
      "49.html\n",
      "5.html\n",
      "50.html\n",
      "51.html\n",
      "52.html\n",
      "53.html\n",
      "54.html\n",
      "55.html\n",
      "56.html\n",
      "57.html\n",
      "58.html\n",
      "59.html\n",
      "6.html\n",
      "60.html\n",
      "61.html\n",
      "62.html\n",
      "63.html\n",
      "64.html\n",
      "65.html\n",
      "66.html\n",
      "67.html\n",
      "68.html\n",
      "69.html\n",
      "7.html\n",
      "70.html\n",
      "71.html\n",
      "72.html\n",
      "73.html\n",
      "74.html\n",
      "75.html\n",
      "76.html\n",
      "77.html\n",
      "78.html\n",
      "79.html\n",
      "8.html\n",
      "80.html\n",
      "81.html\n",
      "82.html\n",
      "83.html\n",
      "84.html\n",
      "85.html\n",
      "86.html\n",
      "87.html\n",
      "88.html\n",
      "89.html\n",
      "9.html\n",
      "90.html\n",
      "91.html\n",
      "92.html\n",
      "93.html\n",
      "94.html\n",
      "95.html\n",
      "96.html\n",
      "97.html\n",
      "98.html\n",
      "99.html\n"
     ]
    }
   ],
   "source": [
    "review_stars = []\n",
    "review_text =  []\n",
    "review_date = []\n",
    "\n",
    "for i in files:\n",
    "    print(i)\n",
    "    with open(f\"amazon_lap_reviews/{i}\", 'r', encoding=\"utf8\") as reader:\n",
    "        html_string = reader.read()\n",
    "        soup = BeautifulSoup(html_string, 'html.parser')\n",
    "\n",
    "        for review in soup.find_all(class_=\"a-section celwidget\"):\n",
    "            try:\n",
    "                review_text.append(review.find_all(class_=\"review-text-content\")[0].text.strip())\n",
    "                review_stars.append(review.find_all(class_=\"review-rating\")[0].text)\n",
    "                review_date.append(review.find_all(class_=\"a-size-base a-color-secondary review-date\")[0].text)\n",
    "            except ValueError:\n",
    "                pass"
   ]
  },
  {
   "cell_type": "code",
   "execution_count": 90,
   "metadata": {},
   "outputs": [
    {
     "output_type": "execute_result",
     "data": {
      "text/plain": [
       "                  Stars                                        Review Text  \\\n",
       "0    1.0 out of 5 stars  1.  Customer service is denying for warranty2....   \n",
       "1    1.0 out of 5 stars  After 4 months using this SF Pro 7 Core i5 8GB...   \n",
       "2    1.0 out of 5 stars  Amazon is the seller of all products not the m...   \n",
       "3    1.0 out of 5 stars  Awful. Slow. My 2014 MacBook is faster. Don’t ...   \n",
       "4    1.0 out of 5 stars  Bought bundled but keyboard connection was inc...   \n",
       "..                  ...                                                ...   \n",
       "348  5.0 out of 5 stars  surface pro 7 i7 16gig memory 256 storage, lov...   \n",
       "349  5.0 out of 5 stars  très très bon,j aime beaucoup, j adore, je rec...   \n",
       "350  5.0 out of 5 stars  using business and for personal use, music and...   \n",
       "351  5.0 out of 5 stars                             very good performance.   \n",
       "352  5.0 out of 5 stars  what can i say - its the tablet described, shi...   \n",
       "\n",
       "                                           Review Date  Random  \n",
       "0                    Reviewed in India on May 19, 2021       1  \n",
       "1       Reviewed in the United States on June 17, 2020       1  \n",
       "2    Reviewed in the United States on February 24, ...       1  \n",
       "3    Reviewed in the United States on February 17, ...       1  \n",
       "4     Reviewed in the United States on January 4, 2020       1  \n",
       "..                                                 ...     ...  \n",
       "348      Reviewed in the United States on July 6, 2020       1  \n",
       "349              Reviewed in Canada on January 3, 2021       1  \n",
       "350  Reviewed in the United States on September 14,...       1  \n",
       "351   Reviewed in the United States on January 4, 2020       1  \n",
       "352   Reviewed in the United States on January 7, 2021       1  \n",
       "\n",
       "[353 rows x 4 columns]"
      ],
      "text/html": "<div>\n<style scoped>\n    .dataframe tbody tr th:only-of-type {\n        vertical-align: middle;\n    }\n\n    .dataframe tbody tr th {\n        vertical-align: top;\n    }\n\n    .dataframe thead th {\n        text-align: right;\n    }\n</style>\n<table border=\"1\" class=\"dataframe\">\n  <thead>\n    <tr style=\"text-align: right;\">\n      <th></th>\n      <th>Stars</th>\n      <th>Review Text</th>\n      <th>Review Date</th>\n      <th>Random</th>\n    </tr>\n  </thead>\n  <tbody>\n    <tr>\n      <th>0</th>\n      <td>1.0 out of 5 stars</td>\n      <td>1.  Customer service is denying for warranty2....</td>\n      <td>Reviewed in India on May 19, 2021</td>\n      <td>1</td>\n    </tr>\n    <tr>\n      <th>1</th>\n      <td>1.0 out of 5 stars</td>\n      <td>After 4 months using this SF Pro 7 Core i5 8GB...</td>\n      <td>Reviewed in the United States on June 17, 2020</td>\n      <td>1</td>\n    </tr>\n    <tr>\n      <th>2</th>\n      <td>1.0 out of 5 stars</td>\n      <td>Amazon is the seller of all products not the m...</td>\n      <td>Reviewed in the United States on February 24, ...</td>\n      <td>1</td>\n    </tr>\n    <tr>\n      <th>3</th>\n      <td>1.0 out of 5 stars</td>\n      <td>Awful. Slow. My 2014 MacBook is faster. Don’t ...</td>\n      <td>Reviewed in the United States on February 17, ...</td>\n      <td>1</td>\n    </tr>\n    <tr>\n      <th>4</th>\n      <td>1.0 out of 5 stars</td>\n      <td>Bought bundled but keyboard connection was inc...</td>\n      <td>Reviewed in the United States on January 4, 2020</td>\n      <td>1</td>\n    </tr>\n    <tr>\n      <th>...</th>\n      <td>...</td>\n      <td>...</td>\n      <td>...</td>\n      <td>...</td>\n    </tr>\n    <tr>\n      <th>348</th>\n      <td>5.0 out of 5 stars</td>\n      <td>surface pro 7 i7 16gig memory 256 storage, lov...</td>\n      <td>Reviewed in the United States on July 6, 2020</td>\n      <td>1</td>\n    </tr>\n    <tr>\n      <th>349</th>\n      <td>5.0 out of 5 stars</td>\n      <td>très très bon,j aime beaucoup, j adore, je rec...</td>\n      <td>Reviewed in Canada on January 3, 2021</td>\n      <td>1</td>\n    </tr>\n    <tr>\n      <th>350</th>\n      <td>5.0 out of 5 stars</td>\n      <td>using business and for personal use, music and...</td>\n      <td>Reviewed in the United States on September 14,...</td>\n      <td>1</td>\n    </tr>\n    <tr>\n      <th>351</th>\n      <td>5.0 out of 5 stars</td>\n      <td>very good performance.</td>\n      <td>Reviewed in the United States on January 4, 2020</td>\n      <td>1</td>\n    </tr>\n    <tr>\n      <th>352</th>\n      <td>5.0 out of 5 stars</td>\n      <td>what can i say - its the tablet described, shi...</td>\n      <td>Reviewed in the United States on January 7, 2021</td>\n      <td>1</td>\n    </tr>\n  </tbody>\n</table>\n<p>353 rows × 4 columns</p>\n</div>"
     },
     "metadata": {},
     "execution_count": 90
    }
   ],
   "source": [
    "test = pd.DataFrame(data={\"Stars\":review_stars, \"Review Text\":review_text, \"Review Date\":review_date, \"Random\":1})\n",
    "test_grouped = test.groupby([\"Stars\", \"Review Text\", \"Review Date\"])[\"Random\"].count().reset_index()\n",
    "test_grouped"
   ]
  },
  {
   "cell_type": "code",
   "execution_count": 91,
   "metadata": {},
   "outputs": [],
   "source": [
    "test.to_csv(\"amazon_lap_reviews.csv\", index=False)"
   ]
  },
  {
   "cell_type": "code",
   "execution_count": null,
   "metadata": {},
   "outputs": [],
   "source": []
  }
 ]
}